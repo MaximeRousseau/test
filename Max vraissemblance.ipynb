{
 "cells": [
  {
   "cell_type": "code",
   "execution_count": 31,
   "metadata": {
    "collapsed": true
   },
   "outputs": [],
   "source": [
    "%matplotlib inline\n",
    "import numpy as np\n",
    "\n",
    "import matplotlib.pylab as plt\n",
    "from __future__ import print_function, division # bring the print function and division of Python3 to 2.7"
   ]
  },
  {
   "cell_type": "code",
   "execution_count": 32,
   "metadata": {
    "collapsed": true
   },
   "outputs": [],
   "source": [
    "def inv_F(x, tau, tmax, tmin):\n",
    "    return - np.log(x * (np.exp(-tmax/tau) - np.exp(-tmin/tau)) + np.exp(-tmin/tau)) * tau"
   ]
  },
  {
   "cell_type": "code",
   "execution_count": 33,
   "metadata": {
    "collapsed": true
   },
   "outputs": [],
   "source": [
    "tau = 2200"
   ]
  },
  {
   "cell_type": "code",
   "execution_count": 34,
   "metadata": {
    "collapsed": true
   },
   "outputs": [],
   "source": [
    "mc_events = 50000\n",
    "rnd = np.random.rand(mc_events)\n",
    "data3 = inv_F(rnd , tau, 20000, 500)"
   ]
  },
  {
   "cell_type": "code",
   "execution_count": 35,
   "metadata": {},
   "outputs": [
    {
     "data": {
      "image/png": "[encoded data removed]",
      "text/plain": [
       "<matplotlib.figure.Figure at 0x1176f7080>"
      ]
     },
     "metadata": {},
     "output_type": "display_data"
    }
   ],
   "source": [
    "fig, ax = plt.subplots(figsize=(8,6))\n",
    "plt.grid()\n",
    "ax.hist(data3,bins = 100)\n",
    "\n",
    "ax.set_xlabel(\"temps [ns]\")\n",
    "ax.set_ylabel(\"nombre d'événements\")\n",
    "\n",
    "plt.show()"
   ]
  },
  {
   "cell_type": "code",
   "execution_count": 36,
   "metadata": {
    "collapsed": true
   },
   "outputs": [],
   "source": [
    "mc_events1 = 50000\n",
    "rnd = np.random.rand(mc_events1)\n",
    "data = inv_F(rnd , tau, 20000, 500)"
   ]
  },
  {
   "cell_type": "code",
   "execution_count": 37,
   "metadata": {},
   "outputs": [
    {
     "name": "stdout",
     "output_type": "stream",
     "text": [
      "[ 4888.77252469  5921.72796274  2763.74300538 ...,  1448.78142613\n",
      "  1843.17737309  1517.76987629]\n"
     ]
    }
   ],
   "source": [
    "print(data)"
   ]
  },
  {
   "cell_type": "code",
   "execution_count": 38,
   "metadata": {
    "collapsed": true
   },
   "outputs": [],
   "source": [
    "N = 50000\n",
    "tmin = 500.\n",
    "tmax = 20000."
   ]
  },
  {
   "cell_type": "code",
   "execution_count": 39,
   "metadata": {
    "collapsed": true
   },
   "outputs": [],
   "source": [
    "def Lstar(N, x, tau, tmin, tmax):\n",
    "    \n",
    "    return  N*np.log(tau) + N*np.log(np.exp(-tmin/tau) - np.exp(-tmax/tau)) + np.sum(x/tau)"
   ]
  },
  {
   "cell_type": "code",
   "execution_count": 40,
   "metadata": {},
   "outputs": [],
   "source": [
    "L = []\n",
    "\n",
    "tt = np.arange(tmin, tmax, 1.)\n",
    "\n",
    "for tau in tt:\n",
    "    P = Lstar(N, data, tau, tmin , tmax)\n",
    "    L.append(P)\n",
    "    \n",
    "tbestL = tt[np.where(L == np.min(L))]"
   ]
  },
  {
   "cell_type": "code",
   "execution_count": 41,
   "metadata": {},
   "outputs": [
    {
     "name": "stdout",
     "output_type": "stream",
     "text": [
      "[ 2190.]\n",
      "434521.218887\n"
     ]
    }
   ],
   "source": [
    "\n",
    "print(tt[np.where(L == np.min(L))])\n",
    "print(np.min(L))"
   ]
  },
  {
   "cell_type": "code",
   "execution_count": 42,
   "metadata": {},
   "outputs": [
    {
     "name": "stdout",
     "output_type": "stream",
     "text": [
      "[ 2190.]\n"
     ]
    }
   ],
   "source": [
    "\n",
    "print(tbestL)"
   ]
  },
  {
   "cell_type": "code",
   "execution_count": 43,
   "metadata": {},
   "outputs": [
    {
     "data": {
      "image/png": "[encoded data removed]",
      "text/plain": [
       "<matplotlib.figure.Figure at 0x117007358>"
      ]
     },
     "metadata": {},
     "output_type": "display_data"
    }
   ],
   "source": [
    "fig1, ax1 = plt.subplots(figsize=(8,6))\n",
    "plt.grid()\n",
    "ax1.plot(tt, L)\n",
    "ax1.set_xlabel(r\"$\\tau$ [ns]\", fontsize=15)\n",
    "ax1.set_ylabel(\"$\\log \\mathcal{L}$\", fontsize=15)\n",
    "\n",
    "plt.show()"
   ]
  },
  {
   "cell_type": "code",
   "execution_count": 44,
   "metadata": {
    "collapsed": true
   },
   "outputs": [],
   "source": [
    "def exp_decay(x, tau, tmin, tmax):\n",
    "    \n",
    "    return (1/tau) * (1/(np.exp(-tmin/tau) - np.exp(-tmax/tau))) * np.exp(-x/tau)"
   ]
  },
  {
   "cell_type": "code",
   "execution_count": 52,
   "metadata": {},
   "outputs": [
    {
     "data": {
      "image/png": "[encoded data removed]",
      "text/plain": [
       "<matplotlib.figure.Figure at 0x117fd5eb8>"
      ]
     },
     "metadata": {},
     "output_type": "display_data"
    }
   ],
   "source": [
    "fig2, ax2 = plt.subplots(figsize=(8,6))\n",
    "plt.grid()\n",
    "ax2.hist(data,bins = 100,normed=True, label=\"Data\")\n",
    "x = np.arange(tmin, tmax, 1.)\n",
    "\n",
    "# If the histogram is NOT normalized (normed = False) I need to rescale the PDF by the number of mc event and the binwidth\n",
    "#  binwidth = np.diff(bins)[0]\n",
    "#  ax4.plot(x, exp_decay(x, 1/tbest*len(data2)*binwidth, tbest, y0), lw =2 , label=r\"Best fitted $\\tau$ = %.1f\"%tbest)\n",
    "\n",
    "ax2.plot(x, exp_decay(x, tbestL, tmin, tmax),lw =2 , label=r\"Best fitted $\\tau$ = %.1f\"%tbestL)\n",
    "\n",
    "ax2.set_xlabel(\"temps [ns]\", fontsize=15)\n",
    "ax2.set_ylabel(\"nombre d'événements\", fontsize=15)\n",
    "\n",
    "plt.legend()\n",
    "\n",
    "\n",
    "plt.show()"
   ]
  },
  {
   "cell_type": "code",
   "execution_count": 46,
   "metadata": {},
   "outputs": [
    {
     "ename": "SyntaxError",
     "evalue": "invalid syntax (<ipython-input-46-e55fdccc4651>, line 3)",
     "output_type": "error",
     "traceback": [
      "\u001b[0;36m  File \u001b[0;32m\"<ipython-input-46-e55fdccc4651>\"\u001b[0;36m, line \u001b[0;32m3\u001b[0m\n\u001b[0;31m    print(np.min(L) + )\u001b[0m\n\u001b[0m                      ^\u001b[0m\n\u001b[0;31mSyntaxError\u001b[0m\u001b[0;31m:\u001b[0m invalid syntax\n"
     ]
    }
   ],
   "source": [
    "tbestL \n",
    "print(np.min(L))\n",
    "print(np.min(L) + )"
   ]
  },
  {
   "cell_type": "markdown",
   "metadata": {},
   "source": [
    "## calcul erreur"
   ]
  },
  {
   "cell_type": "code",
   "execution_count": 47,
   "metadata": {},
   "outputs": [
    {
     "name": "stdout",
     "output_type": "stream",
     "text": [
      "434521.718887\n"
     ]
    }
   ],
   "source": [
    "d = np.min(L) + 0.5\n",
    "print(d)"
   ]
  },
  {
   "cell_type": "code",
   "execution_count": 48,
   "metadata": {},
   "outputs": [
    {
     "name": "stdout",
     "output_type": "stream",
     "text": [
      "434521.75674\n",
      "2200.5\n"
     ]
    }
   ],
   "source": [
    "#tau+sigma\n",
    "tau = 2200\n",
    "Y = Lstar(N, data, tau, tmin, tmax)\n",
    "\n",
    "while Y < d:\n",
    "\n",
    "    tau = tau + 0.5\n",
    "\n",
    "    Y = Lstar(N, data, tau, tmin, tmax)\n",
    "\n",
    "else:\n",
    "    print(Y)\n",
    "    print(tau)\n",
    "\n"
   ]
  },
  {
   "cell_type": "code",
   "execution_count": 49,
   "metadata": {},
   "outputs": [
    {
     "name": "stdout",
     "output_type": "stream",
     "text": [
      "434521.763661\n",
      "2180.0\n"
     ]
    }
   ],
   "source": [
    "#tau-sigma\n",
    "tau = 2200\n",
    "Y = Lstar(N, data, tau, tmin, tmax)\n",
    "\n",
    "while Y < d:\n",
    "\n",
    "    tau = tau - 0.5\n",
    "\n",
    "    Y = Lstar(N, data, tau, tmin, tmax)\n",
    "\n",
    "else:\n",
    "    print(Y)\n",
    "    print(tau)\n"
   ]
  },
  {
   "cell_type": "code",
   "execution_count": 50,
   "metadata": {},
   "outputs": [
    {
     "name": "stdout",
     "output_type": "stream",
     "text": [
      "[ 2190.]\n"
     ]
    }
   ],
   "source": [
    "print(tbestL)"
   ]
  },
  {
   "cell_type": "code",
   "execution_count": null,
   "metadata": {
    "collapsed": true
   },
   "outputs": [],
   "source": []
  }
 ],
 "metadata": {
  "kernelspec": {
   "display_name": "Python 3",
   "language": "python",
   "name": "python3"
  },
  "language_info": {
   "codemirror_mode": {
    "name": "ipython",
    "version": 3
   },
   "file_extension": ".py",
   "mimetype": "text/x-python",
   "name": "python",
   "nbconvert_exporter": "python",
   "pygments_lexer": "ipython3",
   "version": "3.6.2"
  }
 },
 "nbformat": 4,
 "nbformat_minor": 2
}
